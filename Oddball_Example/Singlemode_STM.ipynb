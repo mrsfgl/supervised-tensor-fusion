{
 "metadata": {
  "language_info": {
   "codemirror_mode": {
    "name": "ipython",
    "version": 3
   },
   "file_extension": ".py",
   "mimetype": "text/x-python",
   "name": "python",
   "nbconvert_exporter": "python",
   "pygments_lexer": "ipython3",
   "version": "3.7.9"
  },
  "orig_nbformat": 2,
  "kernelspec": {
   "name": "python3",
   "display_name": "Python 3.7.9 64-bit ('base': conda)",
   "metadata": {
    "interpreter": {
     "hash": "34dfee18d5f4a96df9a8fcc719c91cf50e8ed50de2aa108bf45cd20982063274"
    }
   }
  }
 },
 "nbformat": 4,
 "nbformat_minor": 2,
 "cells": [
  {
   "source": [
    "# Singel Mode Visual EEG Classification Using CP STM #"
   ],
   "cell_type": "markdown",
   "metadata": {}
  },
  {
   "cell_type": "code",
   "execution_count": 1,
   "metadata": {},
   "outputs": [],
   "source": [
    "import numpy as np \n",
    "from hdf5storage import loadmat\n",
    "import CP_STM\n",
    "from classification_tools import classification_metrics\n",
    "from sklearn.model_selection import StratifiedKFold\n",
    "\n",
    "df = loadmat('EEG_Visual_df.mat')['Xdata']\n",
    "y = loadmat('EEG_Visual_label.mat')['ylabel']\n",
    "y = y - 1   # convert labels to 0-1\n",
    "\n",
    "# Convert data to list as it is required by our function application\n",
    "Xdata = [df[:, :, :, j] for j in range(90)]\n",
    "y = y.reshape(90).tolist()\n",
    "y = [-1 if a < 1 else 1 for a in y]"
   ]
  },
  {
   "cell_type": "code",
   "execution_count": 2,
   "metadata": {},
   "outputs": [
    {
     "output_type": "stream",
     "name": "stdout",
     "text": [
      "90 90\n"
     ]
    }
   ],
   "source": [
    "print(len(Xdata), len(y))"
   ]
  },
  {
   "cell_type": "code",
   "execution_count": 4,
   "metadata": {},
   "outputs": [
    {
     "output_type": "stream",
     "name": "stdout",
     "text": [
      "     pcost       dcost       gap    pres   dres\n",
      " 0: -7.7778e+00 -2.1111e+01  1e+01  4e-16  1e+00\n",
      " 1: -7.9781e+00 -8.1298e+00  2e-01  4e-16  6e-02\n",
      " 2: -8.0000e+00 -8.0016e+00  2e-03  9e-16  5e-04\n",
      " 3: -8.0000e+00 -8.0000e+00  2e-05  5e-16  5e-06\n",
      " 4: -8.0000e+00 -8.0000e+00  2e-07  3e-16  5e-08\n",
      "Optimal solution found.\n",
      "Training takes 2.0062525272369385 second\n",
      "     pcost       dcost       gap    pres   dres\n",
      " 0: -7.7778e+00 -2.1111e+01  1e+01  4e-16  1e+00\n",
      " 1: -7.9781e+00 -8.1298e+00  2e-01  4e-16  6e-02\n",
      " 2: -8.0000e+00 -8.0016e+00  2e-03  9e-16  5e-04\n",
      " 3: -8.0000e+00 -8.0000e+00  2e-05  5e-16  5e-06\n",
      " 4: -8.0000e+00 -8.0000e+00  2e-07  3e-16  5e-08\n",
      "Optimal solution found.\n",
      "Training takes 1.851614236831665 second\n",
      "     pcost       dcost       gap    pres   dres\n",
      " 0: -7.7778e+00 -2.1111e+01  1e+01  4e-16  1e+00\n",
      " 1: -7.9781e+00 -8.1298e+00  2e-01  4e-16  6e-02\n",
      " 2: -8.0000e+00 -8.0016e+00  2e-03  9e-16  5e-04\n",
      " 3: -8.0000e+00 -8.0000e+00  2e-05  5e-16  5e-06\n",
      " 4: -8.0000e+00 -8.0000e+00  2e-07  3e-16  5e-08\n",
      "Optimal solution found.\n",
      "Training takes 1.8186657428741455 second\n",
      "     pcost       dcost       gap    pres   dres\n",
      " 0: -7.7778e+00 -2.1111e+01  1e+01  4e-16  1e+00\n",
      " 1: -7.9781e+00 -8.1298e+00  2e-01  4e-16  6e-02\n",
      " 2: -8.0000e+00 -8.0016e+00  2e-03  9e-16  5e-04\n",
      " 3: -8.0000e+00 -8.0000e+00  2e-05  5e-16  5e-06\n",
      " 4: -8.0000e+00 -8.0000e+00  2e-07  3e-16  5e-08\n",
      "Optimal solution found.\n",
      "Training takes 1.809422492980957 second\n",
      "     pcost       dcost       gap    pres   dres\n",
      " 0: -7.7778e+00 -2.1111e+01  1e+01  4e-16  1e+00\n",
      " 1: -7.9781e+00 -8.1298e+00  2e-01  4e-16  6e-02\n",
      " 2: -8.0000e+00 -8.0016e+00  2e-03  9e-16  5e-04\n",
      " 3: -8.0000e+00 -8.0000e+00  2e-05  5e-16  5e-06\n",
      " 4: -8.0000e+00 -8.0000e+00  2e-07  3e-16  5e-08\n",
      "Optimal solution found.\n",
      "Training takes 1.8287081718444824 second\n",
      "     pcost       dcost       gap    pres   dres\n",
      " 0: -7.7778e+00 -2.1111e+01  1e+01  4e-16  1e+00\n",
      " 1: -7.9781e+00 -8.1298e+00  2e-01  4e-16  6e-02\n",
      " 2: -8.0000e+00 -8.0016e+00  2e-03  9e-16  5e-04\n",
      " 3: -8.0000e+00 -8.0000e+00  2e-05  5e-16  5e-06\n",
      " 4: -8.0000e+00 -8.0000e+00  2e-07  3e-16  5e-08\n",
      "Optimal solution found.\n",
      "Training takes 1.8060519695281982 second\n",
      "     pcost       dcost       gap    pres   dres\n",
      " 0: -7.7778e+00 -2.1111e+01  1e+01  4e-16  1e+00\n",
      " 1: -7.9781e+00 -8.1298e+00  2e-01  4e-16  6e-02\n",
      " 2: -8.0000e+00 -8.0016e+00  2e-03  9e-16  5e-04\n",
      " 3: -8.0000e+00 -8.0000e+00  2e-05  5e-16  5e-06\n",
      " 4: -8.0000e+00 -8.0000e+00  2e-07  3e-16  5e-08\n",
      "Optimal solution found.\n",
      "Training takes 1.8293142318725586 second\n",
      "     pcost       dcost       gap    pres   dres\n",
      " 0: -7.7778e+00 -2.1111e+01  1e+01  4e-16  1e+00\n",
      " 1: -7.9781e+00 -8.1298e+00  2e-01  4e-16  6e-02\n",
      " 2: -8.0000e+00 -8.0016e+00  2e-03  9e-16  5e-04\n",
      " 3: -8.0000e+00 -8.0000e+00  2e-05  5e-16  5e-06\n",
      " 4: -8.0000e+00 -8.0000e+00  2e-07  3e-16  5e-08\n",
      "Optimal solution found.\n",
      "Training takes 1.7992157936096191 second\n",
      "     pcost       dcost       gap    pres   dres\n",
      " 0: -7.7778e+00 -2.1111e+01  1e+01  4e-16  1e+00\n",
      " 1: -7.9781e+00 -8.1298e+00  2e-01  4e-16  6e-02\n",
      " 2: -8.0000e+00 -8.0016e+00  2e-03  9e-16  5e-04\n",
      " 3: -8.0000e+00 -8.0000e+00  2e-05  5e-16  5e-06\n",
      " 4: -8.0000e+00 -8.0000e+00  2e-07  3e-16  5e-08\n",
      "Optimal solution found.\n",
      "Training takes 1.800419569015503 second\n"
     ]
    }
   ],
   "source": [
    "np.random.seed(999)\n",
    "acc, prec, rec, spec = [], [], [], []\n",
    "skf = StratifiedKFold(n_splits= 9)\n",
    "for train_indx, test_indx in skf.split(np.zeros(len(Xdata)), y):\n",
    "    Xtrain = [Xdata[i] for i in train_indx]\n",
    "    Xtest = [Xdata[j] for j in test_indx]\n",
    "    ytrain = [y[i] for i in train_indx]\n",
    "    ytest = [y[j] for j in test_indx]\n",
    "    mymodel = CP_STM.CP_STM(Xtrain, ytrain, Decomposition=True, num_rank= 5)\n",
    "    mymodel.fit(\"Gaussian\", [0.1, 0.01, 0.5])\n",
    "    ypred = mymodel.predict(Xtest)\n",
    "    a, b, c, d = classification_metrics(ytest, ypred)\n",
    "    acc.append(a)\n",
    "    prec.append(b)\n",
    "    rec.append(c)\n",
    "    spec.append(d)"
   ]
  },
  {
   "cell_type": "code",
   "execution_count": 6,
   "metadata": {},
   "outputs": [
    {
     "output_type": "stream",
     "name": "stdout",
     "text": [
      "0.5 0.0\n0.5 0.0\n1.0 0.0\n0.0 0.0\n"
     ]
    }
   ],
   "source": [
    "print(np.mean(acc), np.std(acc))\n",
    "print(np.mean(prec), np.std(prec))\n",
    "print(np.mean(rec), np.std(rec))\n",
    "print(np.mean(spec), np.std(spec))"
   ]
  },
  {
   "cell_type": "code",
   "execution_count": null,
   "metadata": {},
   "outputs": [],
   "source": []
  }
 ]
}