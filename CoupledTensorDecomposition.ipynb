{
 "metadata": {
  "language_info": {
   "codemirror_mode": {
    "name": "ipython",
    "version": 3
   },
   "file_extension": ".py",
   "mimetype": "text/x-python",
   "name": "python",
   "nbconvert_exporter": "python",
   "pygments_lexer": "ipython3",
   "version": "3.7.9-final"
  },
  "orig_nbformat": 2,
  "kernelspec": {
   "name": "python3",
   "display_name": "Python 3.7.9 64-bit (conda)",
   "metadata": {
    "interpreter": {
     "hash": "34dfee18d5f4a96df9a8fcc719c91cf50e8ed50de2aa108bf45cd20982063274"
    }
   }
  }
 },
 "nbformat": 4,
 "nbformat_minor": 2,
 "cells": [
  {
   "cell_type": "code",
   "execution_count": 1,
   "metadata": {},
   "outputs": [],
   "source": [
    "\"\"\"\n",
    "Coupled Tensor Decomposition for simultanelous EEG and fMRI study\n",
    "\n",
    "Peide (Peter) Li\n",
    "\"\"\"\n",
    "import os \n",
    "import numpy as np \n",
    "import nibabel as nib \n",
    "from scipy.io import loadmat, savemat\n",
    "\n",
    "EEG_file = \"D:\\\\Research\\\\EEG-fMRI\\\\sub-01\\\\EEG\\\\EEG_rereferenced_task01run01.mat\"\n",
    "fMRI_file = \"D:\\\\Research\\\\EEG-fMRI\\\\sub-01\\\\func\\\\sub-01_task-auditoryoddballwithbuttonresponsetotargetstimuli_run-01_bold.nii.gz\"\n",
    "\n",
    "EEG = loadmat(EEG_file)\n",
    "fMRI = nib.load(fMRI_file)"
   ]
  },
  {
   "cell_type": "code",
   "execution_count": 2,
   "metadata": {},
   "outputs": [
    {
     "output_type": "stream",
     "name": "stdout",
     "text": [
      "(37, 340000)\n",
      "(64, 64, 32, 170)\n"
     ]
    }
   ],
   "source": [
    "eeg_df = EEG['data_reref']\n",
    "print(eeg_df.shape)\n",
    "fMRI_df = fMRI.get_fdata()\n",
    "print(fMRI_df.shape)"
   ]
  },
  {
   "cell_type": "code",
   "execution_count": 3,
   "metadata": {},
   "outputs": [],
   "source": [
    "def trail_reshape(eeg, fmri, **kwargs):\n",
    "    \"\"\"Reshape eeg and fmri to be trail * channel / voxel * time\"\"\"\n",
    "    if \"trail_length\" not in kwargs:\n",
    "        trail_length = 2 * 1000\n",
    "    else:\n",
    "        trail_length = kwargs['trail_length']\n",
    "\n",
    "    eeg_reshaped = []\n",
    "    i = 0\n",
    "    while i < eeg.shape[-1] - trail_length:\n",
    "        eeg_reshaped.append(eeg[:, i : i + trail_length])\n",
    "        i += trail_length\n",
    "    eeg_reshaped = np.array(eeg_reshaped)\n",
    "    fMRI_reshaped = fmri.transpose((3, 0, 1, 2))\n",
    "    return eeg_reshaped, fMRI_reshaped"
   ]
  },
  {
   "cell_type": "code",
   "execution_count": 4,
   "metadata": {},
   "outputs": [],
   "source": [
    "a, b = trail_reshape(eeg_df, fMRI_df)"
   ]
  },
  {
   "cell_type": "code",
   "execution_count": 5,
   "metadata": {},
   "outputs": [
    {
     "output_type": "execute_result",
     "data": {
      "text/plain": [
       "(169, 37, 2000)"
      ]
     },
     "metadata": {},
     "execution_count": 5
    }
   ],
   "source": [
    "a.shape"
   ]
  },
  {
   "cell_type": "code",
   "execution_count": 6,
   "metadata": {},
   "outputs": [
    {
     "output_type": "execute_result",
     "data": {
      "text/plain": [
       "(170, 64, 64, 32)"
      ]
     },
     "metadata": {},
     "execution_count": 6
    }
   ],
   "source": [
    "b.shape"
   ]
  },
  {
   "cell_type": "code",
   "execution_count": null,
   "metadata": {},
   "outputs": [],
   "source": []
  }
 ]
}